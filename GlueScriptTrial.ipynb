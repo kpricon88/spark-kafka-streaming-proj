{
 "cells": [
  {
   "cell_type": "code",
   "execution_count": 3,
   "id": "2db64489-fada-42a2-b73e-aef67a66b625",
   "metadata": {},
   "outputs": [
    {
     "name": "stdout",
     "output_type": "stream",
     "text": [
      "/home/glue_user/workspace/jupyter_workspace\n"
     ]
    }
   ],
   "source": [
    "from pyspark import SparkContext\n",
    "from awsglue.context import GlueContext\n",
    "import os\n",
    "glueContext = GlueContext(SparkContext.getOrCreate()) \n",
    "spark = glueContext.spark_session\n",
    "\n",
    "working_directory= os.getcwd()\n",
    "print(working_directory)"
   ]
  },
  {
   "cell_type": "code",
   "execution_count": 8,
   "id": "f13a10aa-2cd8-4743-95b0-e0b848d9adeb",
   "metadata": {},
   "outputs": [
    {
     "name": "stdout",
     "output_type": "stream",
     "text": [
      "root\n",
      " |-- EMPLOYEE_ID: string (nullable = true)\n",
      " |-- FIRST_NAME: string (nullable = true)\n",
      " |-- LAST_NAME: string (nullable = true)\n",
      " |-- EMAIL: string (nullable = true)\n",
      " |-- PHONE_NUMBER: string (nullable = true)\n",
      " |-- HIRE_DATE: string (nullable = true)\n",
      " |-- JOB_ID: string (nullable = true)\n",
      " |-- SALARY: string (nullable = true)\n",
      " |-- COMMISSION_PCT: string (nullable = true)\n",
      " |-- MANAGER_ID: string (nullable = true)\n",
      " |-- DEPARTMENT_ID: string (nullable = true)\n",
      "\n"
     ]
    }
   ],
   "source": [
    "inputDF= spark.read.csv('employees.csv', header=True)\n",
    "inputDF.printSchema()"
   ]
  },
  {
   "cell_type": "code",
   "execution_count": 9,
   "id": "240a6713-3d19-4f6f-a619-878a898ffdd5",
   "metadata": {},
   "outputs": [
    {
     "name": "stdout",
     "output_type": "stream",
     "text": [
      "root\n",
      " |-- EMPLOYEE_ID: string (nullable = true)\n",
      " |-- FIRST_NAME: string (nullable = true)\n",
      " |-- LAST_NAME: string (nullable = true)\n",
      " |-- EMAIL: string (nullable = true)\n",
      "\n"
     ]
    }
   ],
   "source": [
    "filterDF= inputDF.select('EMPLOYEE_ID','FIRST_NAME','LAST_NAME','EMAIL')\n",
    "filterDF.printSchema()"
   ]
  },
  {
   "cell_type": "code",
   "execution_count": 15,
   "id": "177cede2-07f7-435b-a9b5-c56c9bb4c25a",
   "metadata": {},
   "outputs": [
    {
     "name": "stdout",
     "output_type": "stream",
     "text": [
      "root\n",
      "|-- EMPLOYEE_ID: string\n",
      "|-- FIRST_NAME: string\n",
      "|-- LAST_NAME: string\n",
      "|-- EMAIL: string\n",
      "\n"
     ]
    }
   ],
   "source": [
    "from awsglue.dynamicframe import DynamicFrame\n",
    "emp_data= DynamicFrame.fromDF(filterDF, glueContext, 'EMPDATA')\n",
    "emp_data.printSchema()"
   ]
  },
  {
   "cell_type": "code",
   "execution_count": 17,
   "id": "b10bc25f-9bd1-4e2a-82c3-0cf119f72725",
   "metadata": {},
   "outputs": [],
   "source": [
    "s3DF = glueContext.write_dynamic_frame_from_options(frame=emp_data, \n",
    "                                                    connection_type = 's3', \n",
    "                                                    connection_options = {'path': 's3://docker-gluetest-poc-22'\n",
    "                                                                         }, \n",
    "                                                    format = 'json')\n"
   ]
  },
  {
   "cell_type": "code",
   "execution_count": null,
   "id": "61c6024c-fe6e-4756-b536-75175df6d5ee",
   "metadata": {},
   "outputs": [],
   "source": []
  }
 ],
 "metadata": {
  "kernelspec": {
   "display_name": "Python 3",
   "language": "python",
   "name": "python3"
  },
  "language_info": {
   "codemirror_mode": {
    "name": "ipython",
    "version": 3
   },
   "file_extension": ".py",
   "mimetype": "text/x-python",
   "name": "python",
   "nbconvert_exporter": "python",
   "pygments_lexer": "ipython3",
   "version": "3.7.10"
  }
 },
 "nbformat": 4,
 "nbformat_minor": 5
}
